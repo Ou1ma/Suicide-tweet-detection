{
 "cells": [
  {
   "cell_type": "code",
   "execution_count": 1,
   "id": "6f4a8d0f",
   "metadata": {
    "_cell_guid": "8523e152-11c1-46d5-a000-4a0a4c1191da",
    "_uuid": "122c309c-972b-4b5d-802c-393f28b62c5b",
    "collapsed": false,
    "execution": {
     "iopub.execute_input": "2024-11-27T14:03:34.396934Z",
     "iopub.status.busy": "2024-11-27T14:03:34.396551Z",
     "iopub.status.idle": "2024-11-27T14:03:38.279516Z",
     "shell.execute_reply": "2024-11-27T14:03:38.278329Z"
    },
    "jupyter": {
     "outputs_hidden": false
    },
    "papermill": {
     "duration": 3.891807,
     "end_time": "2024-11-27T14:03:38.281812",
     "exception": false,
     "start_time": "2024-11-27T14:03:34.390005",
     "status": "completed"
    },
    "tags": []
   },
   "outputs": [
    {
     "name": "stdout",
     "output_type": "stream",
     "text": [
      "/kaggle/input/suicidal-tweet-detection-dataset/Suicide_Ideation_Dataset(Twitter-based).csv\n"
     ]
    }
   ],
   "source": [
    "# This Python 3 environment comes with many helpful analytics libraries installed\n",
    "# It is defined by the kaggle/python Docker image: https://github.com/kaggle/docker-python\n",
    "# For example, here's several helpful packages to load\n",
    "\n",
    "import numpy as np \n",
    "import pandas as pd\n",
    "import re\n",
    "import nltk\n",
    "#import demoji\n",
    "import string\n",
    "import seaborn as sns\n",
    "import matplotlib.pyplot as plt\n",
    "\n",
    "from sklearn.tree import DecisionTreeClassifier\n",
    "from sklearn.ensemble import RandomForestClassifier\n",
    "\n",
    "from nltk.corpus import stopwords\n",
    "from nltk.stem.porter import PorterStemmer\n",
    "from sklearn.feature_extraction.text import CountVectorizer\n",
    "from sklearn.preprocessing import LabelEncoder\n",
    "from nltk.tokenize import word_tokenize\n",
    "from sklearn.model_selection import train_test_split\n",
    "from sklearn.feature_extraction.text import TfidfVectorizer\n",
    "from xgboost import XGBClassifier\n",
    "from sklearn.metrics import (accuracy_score, recall_score, f1_score, confusion_matrix, ConfusionMatrixDisplay, \n",
    "                             classification_report, roc_curve, auc)\n",
    "from sklearn.metrics import confusion_matrix\n",
    "# Input data files are available in the read-only \"../input/\" directory\n",
    "# For example, running this (by clicking run or pressing Shift+Enter) will list all files under the input directory\n",
    "\n",
    "import os\n",
    "for dirname, _, filenames in os.walk('/kaggle/input'):\n",
    "    for filename in filenames:\n",
    "        print(os.path.join(dirname, filename))\n",
    "\n",
    "# You can write up to 20GB to the current directory (/kaggle/working/) that gets preserved as output when you create a version using \"Save & Run All\" \n",
    "# You can also write temporary files to /kaggle/temp/, but they won't be saved outside of the current session"
   ]
  },
  {
   "cell_type": "code",
   "execution_count": 2,
   "id": "9ce74bb7",
   "metadata": {
    "execution": {
     "iopub.execute_input": "2024-11-27T14:03:38.292518Z",
     "iopub.status.busy": "2024-11-27T14:03:38.292005Z",
     "iopub.status.idle": "2024-11-27T14:03:38.537102Z",
     "shell.execute_reply": "2024-11-27T14:03:38.535949Z"
    },
    "papermill": {
     "duration": 0.252252,
     "end_time": "2024-11-27T14:03:38.538893",
     "exception": false,
     "start_time": "2024-11-27T14:03:38.286641",
     "status": "completed"
    },
    "tags": []
   },
   "outputs": [
    {
     "name": "stdout",
     "output_type": "stream",
     "text": [
      "[nltk_data] Downloading package stopwords to /usr/share/nltk_data...\n",
      "[nltk_data]   Package stopwords is already up-to-date!\n"
     ]
    },
    {
     "data": {
      "text/plain": [
       "True"
      ]
     },
     "execution_count": 2,
     "metadata": {},
     "output_type": "execute_result"
    }
   ],
   "source": [
    "#demoji.download_codes()\n",
    "nltk.download('stopwords')"
   ]
  },
  {
   "cell_type": "code",
   "execution_count": 3,
   "id": "fff711bc",
   "metadata": {
    "execution": {
     "iopub.execute_input": "2024-11-27T14:03:38.549576Z",
     "iopub.status.busy": "2024-11-27T14:03:38.549001Z",
     "iopub.status.idle": "2024-11-27T14:03:38.584167Z",
     "shell.execute_reply": "2024-11-27T14:03:38.582760Z"
    },
    "papermill": {
     "duration": 0.043091,
     "end_time": "2024-11-27T14:03:38.586504",
     "exception": false,
     "start_time": "2024-11-27T14:03:38.543413",
     "status": "completed"
    },
    "tags": []
   },
   "outputs": [],
   "source": [
    "df = pd.read_csv(\"/kaggle/input/suicidal-tweet-detection-dataset/Suicide_Ideation_Dataset(Twitter-based).csv\")"
   ]
  },
  {
   "cell_type": "code",
   "execution_count": 4,
   "id": "94ef91b0",
   "metadata": {
    "execution": {
     "iopub.execute_input": "2024-11-27T14:03:38.597908Z",
     "iopub.status.busy": "2024-11-27T14:03:38.597177Z",
     "iopub.status.idle": "2024-11-27T14:03:38.607998Z",
     "shell.execute_reply": "2024-11-27T14:03:38.607185Z"
    },
    "papermill": {
     "duration": 0.018797,
     "end_time": "2024-11-27T14:03:38.610146",
     "exception": false,
     "start_time": "2024-11-27T14:03:38.591349",
     "status": "completed"
    },
    "tags": []
   },
   "outputs": [],
   "source": [
    "df = df.dropna()"
   ]
  },
  {
   "cell_type": "markdown",
   "id": "f03b036b",
   "metadata": {
    "papermill": {
     "duration": 0.004323,
     "end_time": "2024-11-27T14:03:38.619141",
     "exception": false,
     "start_time": "2024-11-27T14:03:38.614818",
     "status": "completed"
    },
    "tags": []
   },
   "source": [
    "okmd"
   ]
  },
  {
   "cell_type": "code",
   "execution_count": 5,
   "id": "53066fb1",
   "metadata": {
    "execution": {
     "iopub.execute_input": "2024-11-27T14:03:38.631013Z",
     "iopub.status.busy": "2024-11-27T14:03:38.630050Z",
     "iopub.status.idle": "2024-11-27T14:03:38.642234Z",
     "shell.execute_reply": "2024-11-27T14:03:38.641499Z"
    },
    "papermill": {
     "duration": 0.020677,
     "end_time": "2024-11-27T14:03:38.644331",
     "exception": false,
     "start_time": "2024-11-27T14:03:38.623654",
     "status": "completed"
    },
    "tags": []
   },
   "outputs": [],
   "source": [
    "df['Tweet'] = df['Tweet'].astype(str)\n",
    "df['Suicide'] = df['Suicide'].astype(str)\n",
    "df['Tweet'] = df['Tweet'].str.lower()\n",
    "df['Suicide'] = df['Suicide'].str.lower()"
   ]
  },
  {
   "cell_type": "code",
   "execution_count": 6,
   "id": "8e0b8645",
   "metadata": {
    "execution": {
     "iopub.execute_input": "2024-11-27T14:03:38.655326Z",
     "iopub.status.busy": "2024-11-27T14:03:38.654673Z",
     "iopub.status.idle": "2024-11-27T14:03:38.670085Z",
     "shell.execute_reply": "2024-11-27T14:03:38.669022Z"
    },
    "papermill": {
     "duration": 0.022916,
     "end_time": "2024-11-27T14:03:38.671957",
     "exception": false,
     "start_time": "2024-11-27T14:03:38.649041",
     "status": "completed"
    },
    "tags": []
   },
   "outputs": [],
   "source": [
    "df['Tweet'] = df['Tweet'].apply(lambda x: ' '.join([word for word in x.split() if not word.startswith('@')]))"
   ]
  },
  {
   "cell_type": "code",
   "execution_count": 7,
   "id": "6175eda1",
   "metadata": {
    "execution": {
     "iopub.execute_input": "2024-11-27T14:03:38.683007Z",
     "iopub.status.busy": "2024-11-27T14:03:38.682099Z",
     "iopub.status.idle": "2024-11-27T14:03:38.699074Z",
     "shell.execute_reply": "2024-11-27T14:03:38.697674Z"
    },
    "papermill": {
     "duration": 0.02453,
     "end_time": "2024-11-27T14:03:38.701143",
     "exception": false,
     "start_time": "2024-11-27T14:03:38.676613",
     "status": "completed"
    },
    "tags": []
   },
   "outputs": [
    {
     "data": {
      "text/html": [
       "<div>\n",
       "<style scoped>\n",
       "    .dataframe tbody tr th:only-of-type {\n",
       "        vertical-align: middle;\n",
       "    }\n",
       "\n",
       "    .dataframe tbody tr th {\n",
       "        vertical-align: top;\n",
       "    }\n",
       "\n",
       "    .dataframe thead th {\n",
       "        text-align: right;\n",
       "    }\n",
       "</style>\n",
       "<table border=\"1\" class=\"dataframe\">\n",
       "  <thead>\n",
       "    <tr style=\"text-align: right;\">\n",
       "      <th></th>\n",
       "      <th>Tweet</th>\n",
       "      <th>Suicide</th>\n",
       "    </tr>\n",
       "  </thead>\n",
       "  <tbody>\n",
       "    <tr>\n",
       "      <th>0</th>\n",
       "      <td>making some lunch</td>\n",
       "      <td>not suicide post</td>\n",
       "    </tr>\n",
       "    <tr>\n",
       "      <th>1</th>\n",
       "      <td>you want his money.</td>\n",
       "      <td>not suicide post</td>\n",
       "    </tr>\n",
       "    <tr>\n",
       "      <th>2</th>\n",
       "      <td>that crap took me forever to put together. iâ...</td>\n",
       "      <td>potential suicide post</td>\n",
       "    </tr>\n",
       "    <tr>\n",
       "      <th>3</th>\n",
       "      <td>#kiwitweets hey jer! since when did you start ...</td>\n",
       "      <td>not suicide post</td>\n",
       "    </tr>\n",
       "    <tr>\n",
       "      <th>5</th>\n",
       "      <td>oh, that's good to hear. but is it over alread...</td>\n",
       "      <td>not suicide post</td>\n",
       "    </tr>\n",
       "  </tbody>\n",
       "</table>\n",
       "</div>"
      ],
      "text/plain": [
       "                                               Tweet                  Suicide\n",
       "0                                  making some lunch         not suicide post\n",
       "1                                you want his money.         not suicide post\n",
       "2  that crap took me forever to put together. iâ...  potential suicide post \n",
       "3  #kiwitweets hey jer! since when did you start ...         not suicide post\n",
       "5  oh, that's good to hear. but is it over alread...         not suicide post"
      ]
     },
     "execution_count": 7,
     "metadata": {},
     "output_type": "execute_result"
    }
   ],
   "source": [
    "filtre = ~df['Tweet'].str.contains('&quot;')\n",
    "\n",
    "df = df[filtre]\n",
    "df.head()"
   ]
  },
  {
   "cell_type": "code",
   "execution_count": 8,
   "id": "7afd6d69",
   "metadata": {
    "execution": {
     "iopub.execute_input": "2024-11-27T14:03:38.712072Z",
     "iopub.status.busy": "2024-11-27T14:03:38.711717Z",
     "iopub.status.idle": "2024-11-27T14:03:38.765375Z",
     "shell.execute_reply": "2024-11-27T14:03:38.764331Z"
    },
    "papermill": {
     "duration": 0.061566,
     "end_time": "2024-11-27T14:03:38.767480",
     "exception": false,
     "start_time": "2024-11-27T14:03:38.705914",
     "status": "completed"
    },
    "tags": []
   },
   "outputs": [
    {
     "data": {
      "text/html": [
       "<div>\n",
       "<style scoped>\n",
       "    .dataframe tbody tr th:only-of-type {\n",
       "        vertical-align: middle;\n",
       "    }\n",
       "\n",
       "    .dataframe tbody tr th {\n",
       "        vertical-align: top;\n",
       "    }\n",
       "\n",
       "    .dataframe thead th {\n",
       "        text-align: right;\n",
       "    }\n",
       "</style>\n",
       "<table border=\"1\" class=\"dataframe\">\n",
       "  <thead>\n",
       "    <tr style=\"text-align: right;\">\n",
       "      <th></th>\n",
       "      <th>Tweet</th>\n",
       "      <th>Suicide</th>\n",
       "    </tr>\n",
       "  </thead>\n",
       "  <tbody>\n",
       "    <tr>\n",
       "      <th>0</th>\n",
       "      <td>making some lunch</td>\n",
       "      <td>not suicide post</td>\n",
       "    </tr>\n",
       "    <tr>\n",
       "      <th>1</th>\n",
       "      <td>you want his money</td>\n",
       "      <td>not suicide post</td>\n",
       "    </tr>\n",
       "    <tr>\n",
       "      <th>2</th>\n",
       "      <td>that crap tok me forever to put together i m g...</td>\n",
       "      <td>potential suicide post</td>\n",
       "    </tr>\n",
       "    <tr>\n",
       "      <th>3</th>\n",
       "      <td>kiwitwets hey jer since when did you start tw...</td>\n",
       "      <td>not suicide post</td>\n",
       "    </tr>\n",
       "    <tr>\n",
       "      <th>5</th>\n",
       "      <td>oh that s god to hear but is it over already o...</td>\n",
       "      <td>not suicide post</td>\n",
       "    </tr>\n",
       "  </tbody>\n",
       "</table>\n",
       "</div>"
      ],
      "text/plain": [
       "                                               Tweet                  Suicide\n",
       "0                                  making some lunch         not suicide post\n",
       "1                                you want his money          not suicide post\n",
       "2  that crap tok me forever to put together i m g...  potential suicide post \n",
       "3   kiwitwets hey jer since when did you start tw...         not suicide post\n",
       "5  oh that s god to hear but is it over already o...         not suicide post"
      ]
     },
     "execution_count": 8,
     "metadata": {},
     "output_type": "execute_result"
    }
   ],
   "source": [
    "def Temizle(text):\n",
    "    text = re.sub('[^a-zA-Z]', ' ', text)\n",
    "    text = re.sub(r'\\d+', '', text)\n",
    "    text = re.sub(r'(.)\\1+', r'\\1', text)\n",
    "    text = re.sub(r'http[s]?://\\S+', '', text)\n",
    "    text = re.sub(r'www\\.\\S+', '', text)\n",
    "    #text = re.sub(r'\\brt\\b', '', text) \n",
    "    #text = re.sub(r'\\btwitter\\b', '', text)\n",
    "    #text = re.sub(r'\\btweet\\b', '', text)\n",
    "    return text\n",
    "\n",
    "df['Tweet'] = df['Tweet'].apply(Temizle)\n",
    "df.head()"
   ]
  },
  {
   "cell_type": "code",
   "execution_count": 9,
   "id": "b2439efe",
   "metadata": {
    "execution": {
     "iopub.execute_input": "2024-11-27T14:03:38.778751Z",
     "iopub.status.busy": "2024-11-27T14:03:38.778339Z",
     "iopub.status.idle": "2024-11-27T14:03:39.025821Z",
     "shell.execute_reply": "2024-11-27T14:03:39.024814Z"
    },
    "papermill": {
     "duration": 0.255489,
     "end_time": "2024-11-27T14:03:39.027879",
     "exception": false,
     "start_time": "2024-11-27T14:03:38.772390",
     "status": "completed"
    },
    "tags": []
   },
   "outputs": [
    {
     "name": "stderr",
     "output_type": "stream",
     "text": [
      "/tmp/ipykernel_17/852414897.py:10: FutureWarning: Series.__getitem__ treating keys as positions is deprecated. In a future version, integer keys will always be treated as labels (consistent with DataFrame behavior). To access a value by position, use `ser.iloc[pos]`\n",
      "  plt.text(i, suicide_counts[i] + 0.5, f'{suicide_counts[i]}', ha='center', va='bottom')\n"
     ]
    },
    {
     "data": {
      "image/png": "[encoded data removed]",
      "text/plain": [
       "<Figure size 800x500 with 1 Axes>"
      ]
     },
     "metadata": {},
     "output_type": "display_data"
    }
   ],
   "source": [
    "suicide_counts = df['Suicide'].value_counts()\n",
    "\n",
    "plt.figure(figsize=(8, 5))\n",
    "sns.barplot(x=suicide_counts.index, y=suicide_counts.values, palette='viridis')\n",
    "\n",
    "plt.title('Distribution of Suicide Posts')\n",
    "plt.xlabel('Post Type')\n",
    "plt.ylabel('Count')\n",
    "for i in range(len(suicide_counts)):\n",
    "    plt.text(i, suicide_counts[i] + 0.5, f'{suicide_counts[i]}', ha='center', va='bottom')\n",
    "plt.show()"
   ]
  },
  {
   "cell_type": "code",
   "execution_count": 10,
   "id": "418d0f96",
   "metadata": {
    "execution": {
     "iopub.execute_input": "2024-11-27T14:03:39.040498Z",
     "iopub.status.busy": "2024-11-27T14:03:39.039635Z",
     "iopub.status.idle": "2024-11-27T14:03:39.046583Z",
     "shell.execute_reply": "2024-11-27T14:03:39.045592Z"
    },
    "papermill": {
     "duration": 0.015336,
     "end_time": "2024-11-27T14:03:39.048629",
     "exception": false,
     "start_time": "2024-11-27T14:03:39.033293",
     "status": "completed"
    },
    "tags": []
   },
   "outputs": [],
   "source": [
    "df['Output'] = df['Suicide'].apply(lambda x: 1 if x.startswith('p') else 0)"
   ]
  },
  {
   "cell_type": "code",
   "execution_count": 11,
   "id": "838983d6",
   "metadata": {
    "execution": {
     "iopub.execute_input": "2024-11-27T14:03:39.061201Z",
     "iopub.status.busy": "2024-11-27T14:03:39.060519Z",
     "iopub.status.idle": "2024-11-27T14:03:39.119641Z",
     "shell.execute_reply": "2024-11-27T14:03:39.118521Z"
    },
    "papermill": {
     "duration": 0.067916,
     "end_time": "2024-11-27T14:03:39.121971",
     "exception": false,
     "start_time": "2024-11-27T14:03:39.054055",
     "status": "completed"
    },
    "tags": []
   },
   "outputs": [],
   "source": [
    "tfidf_vectorizer = TfidfVectorizer(max_features=1000) \n",
    "\n",
    "X = tfidf_vectorizer.fit_transform(df['Tweet'])"
   ]
  },
  {
   "cell_type": "code",
   "execution_count": 12,
   "id": "b62f7937",
   "metadata": {
    "execution": {
     "iopub.execute_input": "2024-11-27T14:03:39.135243Z",
     "iopub.status.busy": "2024-11-27T14:03:39.134017Z",
     "iopub.status.idle": "2024-11-27T14:03:44.425204Z",
     "shell.execute_reply": "2024-11-27T14:03:44.424099Z"
    },
    "papermill": {
     "duration": 5.300933,
     "end_time": "2024-11-27T14:03:44.428373",
     "exception": false,
     "start_time": "2024-11-27T14:03:39.127440",
     "status": "completed"
    },
    "tags": []
   },
   "outputs": [],
   "source": [
    "def nlprocess(text):\n",
    "    text = word_tokenize(text.lower())\n",
    "    text = [PorterStemmer().stem(word) for word in text if not word in set(stopwords.words('english'))]\n",
    "    text = ' '.join(text)\n",
    "    return text\n",
    "\n",
    "encoder = LabelEncoder()\n",
    "vectorizer = CountVectorizer()\n",
    "df['Tweet'] = df['Tweet'].apply(nlprocess)"
   ]
  },
  {
   "cell_type": "code",
   "execution_count": 13,
   "id": "d31e8c21",
   "metadata": {
    "execution": {
     "iopub.execute_input": "2024-11-27T14:03:44.447252Z",
     "iopub.status.busy": "2024-11-27T14:03:44.446763Z",
     "iopub.status.idle": "2024-11-27T14:03:44.553637Z",
     "shell.execute_reply": "2024-11-27T14:03:44.552480Z"
    },
    "papermill": {
     "duration": 0.11766,
     "end_time": "2024-11-27T14:03:44.555930",
     "exception": false,
     "start_time": "2024-11-27T14:03:44.438270",
     "status": "completed"
    },
    "tags": []
   },
   "outputs": [],
   "source": [
    "X = vectorizer.fit_transform(df['Tweet']).toarray()\n",
    "X_train, X_test, y_train, y_test = train_test_split(X, df['Output'], test_size=0.2, random_state=52)"
   ]
  },
  {
   "cell_type": "code",
   "execution_count": 14,
   "id": "3ade446c",
   "metadata": {
    "execution": {
     "iopub.execute_input": "2024-11-27T14:03:44.568434Z",
     "iopub.status.busy": "2024-11-27T14:03:44.568080Z",
     "iopub.status.idle": "2024-11-27T14:03:46.458167Z",
     "shell.execute_reply": "2024-11-27T14:03:46.457022Z"
    },
    "papermill": {
     "duration": 1.899266,
     "end_time": "2024-11-27T14:03:46.460782",
     "exception": false,
     "start_time": "2024-11-27T14:03:44.561516",
     "status": "completed"
    },
    "tags": []
   },
   "outputs": [
    {
     "name": "stdout",
     "output_type": "stream",
     "text": [
      "rf_n Accuracy: 0.9660056657223796\n",
      "rf_n Recall: 0.936\n",
      "rf_n F1-Score: 0.9512195121951219\n"
     ]
    }
   ],
   "source": [
    "rf_n_model = RandomForestClassifier(n_estimators=100, random_state=52)\n",
    "rf_n_model.fit(X_train, y_train)\n",
    "\n",
    "y_pred = rf_n_model.predict(X_test)\n",
    "\n",
    "rf_n_accuracy = accuracy_score(y_test, y_pred)\n",
    "rf_n_recall = recall_score(y_test, y_pred)\n",
    "rf_n_f1 = f1_score(y_test, y_pred)\n",
    "print(\"rf_n Accuracy:\", rf_n_accuracy)\n",
    "print(\"rf_n Recall:\", rf_n_recall)\n",
    "print(\"rf_n F1-Score:\", rf_n_f1)"
   ]
  },
  {
   "cell_type": "code",
   "execution_count": 15,
   "id": "6922b16c",
   "metadata": {
    "execution": {
     "iopub.execute_input": "2024-11-27T14:03:46.474302Z",
     "iopub.status.busy": "2024-11-27T14:03:46.473376Z",
     "iopub.status.idle": "2024-11-27T14:03:46.685525Z",
     "shell.execute_reply": "2024-11-27T14:03:46.684497Z"
    },
    "papermill": {
     "duration": 0.221107,
     "end_time": "2024-11-27T14:03:46.687630",
     "exception": false,
     "start_time": "2024-11-27T14:03:46.466523",
     "status": "completed"
    },
    "tags": []
   },
   "outputs": [
    {
     "name": "stderr",
     "output_type": "stream",
     "text": [
      "/opt/conda/lib/python3.10/site-packages/seaborn/_oldcore.py:1765: FutureWarning: unique with argument that is not not a Series, Index, ExtensionArray, or np.ndarray is deprecated and will raise in a future version.\n",
      "  order = pd.unique(vector)\n"
     ]
    },
    {
     "data": {
      "image/png": "[encoded data removed]",
      "text/plain": [
       "<Figure size 800x500 with 1 Axes>"
      ]
     },
     "metadata": {},
     "output_type": "display_data"
    }
   ],
   "source": [
    "metrics = ['Accuracy', 'Recall', 'F1-Score']\n",
    "values = [rf_n_accuracy, rf_n_recall, rf_n_f1]\n",
    "\n",
    "plt.figure(figsize=(8, 5))\n",
    "sns.barplot(x=metrics, y=values)\n",
    "\n",
    "plt.title('rf_n Model Performance Metrics')\n",
    "plt.ylabel('Score')\n",
    "plt.ylim(0, 1)\n",
    "\n",
    "for i in range(len(values)):\n",
    "    plt.text(i, values[i] + 0.01, f'{values[i]:.2f}', ha='center', va='bottom')\n",
    "plt.show()"
   ]
  },
  {
   "cell_type": "code",
   "execution_count": 16,
   "id": "5f25630a",
   "metadata": {
    "execution": {
     "iopub.execute_input": "2024-11-27T14:03:46.700769Z",
     "iopub.status.busy": "2024-11-27T14:03:46.700366Z",
     "iopub.status.idle": "2024-11-27T14:03:46.812590Z",
     "shell.execute_reply": "2024-11-27T14:03:46.811565Z"
    },
    "papermill": {
     "duration": 0.121586,
     "end_time": "2024-11-27T14:03:46.815056",
     "exception": false,
     "start_time": "2024-11-27T14:03:46.693470",
     "status": "completed"
    },
    "tags": []
   },
   "outputs": [],
   "source": [
    "y_pred_train = rf_n_model.predict(X_train)\n",
    "y_pred_test = rf_n_model.predict(X_test)"
   ]
  },
  {
   "cell_type": "code",
   "execution_count": 17,
   "id": "14c9a8a0",
   "metadata": {
    "execution": {
     "iopub.execute_input": "2024-11-27T14:03:46.829201Z",
     "iopub.status.busy": "2024-11-27T14:03:46.828431Z",
     "iopub.status.idle": "2024-11-27T14:03:46.848519Z",
     "shell.execute_reply": "2024-11-27T14:03:46.847571Z"
    },
    "papermill": {
     "duration": 0.029379,
     "end_time": "2024-11-27T14:03:46.850624",
     "exception": false,
     "start_time": "2024-11-27T14:03:46.821245",
     "status": "completed"
    },
    "tags": []
   },
   "outputs": [
    {
     "name": "stdout",
     "output_type": "stream",
     "text": [
      "Classification Report (Train) : \n",
      "              precision    recall  f1-score   support\n",
      "\n",
      "           0       1.00      1.00      1.00       874\n",
      "           1       1.00      1.00      1.00       534\n",
      "\n",
      "    accuracy                           1.00      1408\n",
      "   macro avg       1.00      1.00      1.00      1408\n",
      "weighted avg       1.00      1.00      1.00      1408\n",
      "\n",
      "-----------------------------------------------------\n",
      "\n",
      "Classification Report (Test)  : \n",
      "              precision    recall  f1-score   support\n",
      "\n",
      "           0       0.97      0.98      0.97       228\n",
      "           1       0.97      0.94      0.95       125\n",
      "\n",
      "    accuracy                           0.97       353\n",
      "   macro avg       0.97      0.96      0.96       353\n",
      "weighted avg       0.97      0.97      0.97       353\n",
      "\n"
     ]
    }
   ],
   "source": [
    "print(f'Classification Report (Train) : \\n{classification_report(y_train, y_pred_train)}')\n",
    "print('-----------------------------------------------------')\n",
    "print(f'\\nClassification Report (Test)  : \\n{classification_report(y_test, y_pred_test)}')"
   ]
  },
  {
   "cell_type": "code",
   "execution_count": 18,
   "id": "65d65157",
   "metadata": {
    "execution": {
     "iopub.execute_input": "2024-11-27T14:03:46.864173Z",
     "iopub.status.busy": "2024-11-27T14:03:46.863316Z",
     "iopub.status.idle": "2024-11-27T14:03:47.193572Z",
     "shell.execute_reply": "2024-11-27T14:03:47.192391Z"
    },
    "papermill": {
     "duration": 0.339204,
     "end_time": "2024-11-27T14:03:47.195769",
     "exception": false,
     "start_time": "2024-11-27T14:03:46.856565",
     "status": "completed"
    },
    "tags": []
   },
   "outputs": [
    {
     "data": {
      "image/png": "[encoded data removed]",
      "text/plain": [
       "<Figure size 640x480 with 1 Axes>"
      ]
     },
     "metadata": {},
     "output_type": "display_data"
    }
   ],
   "source": [
    "fpr, tpr, thresholds = roc_curve(y_test, y_pred_test)\n",
    "roc_auc = auc(fpr, tpr)\n",
    "\n",
    "plt.figure()\n",
    "plt.plot(fpr, tpr, color = 'darkgreen', lw = 2, label = 'ROC curve (area = %0.2f)' % roc_auc)\n",
    "plt.plot([0, 1], [0, 1], color = 'lightgreen', lw = 2, linestyle = '--')\n",
    "plt.xlabel('False Positive Rate')\n",
    "plt.ylabel('True Positive Rate')\n",
    "plt.title('Receiver Operating Characteristic (ROC)')\n",
    "plt.legend(loc = 'lower right')\n",
    "plt.grid(False)\n",
    "plt.show()"
   ]
  },
  {
   "cell_type": "code",
   "execution_count": 19,
   "id": "7c7eb174",
   "metadata": {
    "execution": {
     "iopub.execute_input": "2024-11-27T14:03:47.211505Z",
     "iopub.status.busy": "2024-11-27T14:03:47.210609Z",
     "iopub.status.idle": "2024-11-27T14:03:47.597091Z",
     "shell.execute_reply": "2024-11-27T14:03:47.596084Z"
    },
    "papermill": {
     "duration": 0.39655,
     "end_time": "2024-11-27T14:03:47.599162",
     "exception": false,
     "start_time": "2024-11-27T14:03:47.202612",
     "status": "completed"
    },
    "tags": []
   },
   "outputs": [
    {
     "data": {
      "image/png": "[encoded data removed]",
      "text/plain": [
       "<Figure size 1600x800 with 2 Axes>"
      ]
     },
     "metadata": {},
     "output_type": "display_data"
    }
   ],
   "source": [
    "import matplotlib.pyplot as plt\n",
    "from sklearn.metrics import confusion_matrix, ConfusionMatrixDisplay\n",
    "\n",
    "train_matrix = confusion_matrix(y_train, y_pred_train)\n",
    "test_matrix = confusion_matrix(y_test, y_pred_test)\n",
    "\n",
    "class_labels = ['not suicide post', 'potential suicide post']\n",
    "\n",
    "disp_train = ConfusionMatrixDisplay(confusion_matrix=train_matrix, display_labels=class_labels)\n",
    "disp_test = ConfusionMatrixDisplay(confusion_matrix=test_matrix, display_labels=class_labels)\n",
    "\n",
    "fig, axs = plt.subplots(1, 2, figsize=(16, 8))  \n",
    "\n",
    "# Train Confusion Matrix\n",
    "disp_train.plot(ax=axs[0], cmap='BuGn', colorbar=False)\n",
    "axs[0].set_title('Train Confusion Matrix', fontsize=20)  \n",
    "axs[0].set_xlabel('Predicted Label', fontsize=14) \n",
    "axs[0].set_ylabel('True Label', fontsize=14) \n",
    "for label in axs[0].get_xticklabels() + axs[0].get_yticklabels():\n",
    "    label.set_fontsize(16) \n",
    "\n",
    "# Test Confusion Matrix\n",
    "disp_test.plot(ax=axs[1], cmap='BuGn', colorbar=False)\n",
    "axs[1].set_title('Test Confusion Matrix', fontsize=20)  \n",
    "axs[1].set_xlabel('Predicted Label', fontsize=14)  \n",
    "axs[1].set_ylabel('True Label', fontsize=14)  \n",
    "for label in axs[1].get_xticklabels() + axs[1].get_yticklabels():\n",
    "    label.set_fontsize(16) \n",
    "\n",
    "for ax in axs:\n",
    "    for text in ax.texts:\n",
    "        text.set_fontsize(18) \n",
    "\n",
    "plt.tight_layout()\n",
    "plt.show()"
   ]
  }
 ],
 "metadata": {
  "kaggle": {
   "accelerator": "none",
   "dataSources": [
    {
     "datasetId": 3601209,
     "sourceId": 6265125,
     "sourceType": "datasetVersion"
    }
   ],
   "dockerImageVersionId": 30786,
   "isGpuEnabled": false,
   "isInternetEnabled": true,
   "language": "python",
   "sourceType": "notebook"
  },
  "kernelspec": {
   "display_name": "Python 3",
   "language": "python",
   "name": "python3"
  },
  "language_info": {
   "codemirror_mode": {
    "name": "ipython",
    "version": 3
   },
   "file_extension": ".py",
   "mimetype": "text/x-python",
   "name": "python",
   "nbconvert_exporter": "python",
   "pygments_lexer": "ipython3",
   "version": "3.10.14"
  },
  "papermill": {
   "default_parameters": {},
   "duration": 16.599595,
   "end_time": "2024-11-27T14:03:48.326965",
   "environment_variables": {},
   "exception": null,
   "input_path": "__notebook__.ipynb",
   "output_path": "__notebook__.ipynb",
   "parameters": {},
   "start_time": "2024-11-27T14:03:31.727370",
   "version": "2.6.0"
  }
 },
 "nbformat": 4,
 "nbformat_minor": 5
}
